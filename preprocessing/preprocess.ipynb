{
 "cells": [
  {
   "cell_type": "code",
   "execution_count": 16,
   "metadata": {},
   "outputs": [],
   "source": [
    "import math\n",
    "import os\n",
    "import pandas as pd\n",
    "import yaml"
   ]
  },
  {
   "cell_type": "markdown",
   "metadata": {},
   "source": [
    "# Speaker and Talk Markdown Files\n",
    "---"
   ]
  },
  {
   "cell_type": "code",
   "execution_count": 19,
   "metadata": {},
   "outputs": [],
   "source": [
    "author_data = pd.read_csv('rlem23-authors.csv')\n",
    "author_data['name'] = author_data['first'] + ' ' + author_data['last']\n",
    "\n",
    "\n",
    "for i, ((p, t), pdata) in enumerate(author_data.groupby(['paper', 'title'])):\n",
    "    front_matter = {\n",
    "        'name': t,\n",
    "        'speakers': pdata['name'].tolist(),\n",
    "        'categories': ['presentation'],\n",
    "        'permalink': f'/:collection/:categories/Presentation {i + 1}',\n",
    "    }\n",
    "    front_matter = yaml.dump(front_matter, sort_keys=False)\n",
    "    talk_text = f'---\\n{front_matter}---\\n\\n# Abstract\\nTBD'\n",
    "    filepath = os.path.join('..', '_talks', f'presentation-{i + 1}.md')\n",
    "\n",
    "    with open(filepath, 'w') as f:\n",
    "        f.write(talk_text)\n",
    "\n",
    "    for j, (f, l, e) in enumerate(pdata[['first', 'last', 'email']].to_records(index=False)):\n",
    "        front_matter = {\n",
    "            'name': f'{f} {l}',\n",
    "            'first_name': f,\n",
    "            'last_name': l,\n",
    "            'email': None if not isinstance(e, str) and math.isnan(e) else e,\n",
    "            'permalink': f'/:collection/:categories/Presentation {i + 1} Speaker {j + 1}'\n",
    "        }\n",
    "        front_matter = yaml.dump(front_matter, sort_keys=False)\n",
    "        speaker_text = f'---\\n{front_matter}---'\n",
    "        filepath = os.path.join('..', '_speakers', f'presentation-{i + 1}_speaker-{j + 1}.md')\n",
    "\n",
    "        with open(filepath, 'w') as f:\n",
    "            f.write(speaker_text)"
   ]
  },
  {
   "cell_type": "code",
   "execution_count": null,
   "metadata": {},
   "outputs": [],
   "source": []
  }
 ],
 "metadata": {
  "kernelspec": {
   "display_name": "Python 3",
   "language": "python",
   "name": "python3"
  },
  "language_info": {
   "codemirror_mode": {
    "name": "ipython",
    "version": 3
   },
   "file_extension": ".py",
   "mimetype": "text/x-python",
   "name": "python",
   "nbconvert_exporter": "python",
   "pygments_lexer": "ipython3",
   "version": "3.7.7"
  }
 },
 "nbformat": 4,
 "nbformat_minor": 2
}
